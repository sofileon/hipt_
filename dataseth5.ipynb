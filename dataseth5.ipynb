{
 "cells": [
  {
   "cell_type": "code",
   "execution_count": 6,
   "metadata": {},
   "outputs": [],
   "source": [
    "import torch\n",
    "from torchvision import datasets, transforms\n",
    "from torch.utils.data import DataLoader\n",
    "from pathlib import Path\n",
    "import h5py"
   ]
  },
  {
   "cell_type": "code",
   "execution_count": 17,
   "metadata": {},
   "outputs": [
    {
     "data": {
      "text/plain": [
       "25"
      ]
     },
     "execution_count": 17,
     "metadata": {},
     "output_type": "execute_result"
    }
   ],
   "source": [
    "h5_source=Path('/mnt/CPG/projects/pathology-self-supervision/WSI_patches/data_estimation/lung/ignite_retrospective_radboudumc/patches/256/png')\n",
    "dataset_=datasets.DatasetFolder(h5_source, loader=lambda x: h5py.File(x, 'r')['coords'], extensions='.h5')\n",
    "len(dataset_)"
   ]
  },
  {
   "cell_type": "code",
   "execution_count": 24,
   "metadata": {},
   "outputs": [
    {
     "name": "stdout",
     "output_type": "stream",
     "text": [
      "downsample [2. 2.]\n",
      "downsampled_level_dim [136064 147072]\n",
      "level_dim [136064 147072]\n",
      "patch_level 1\n",
      "patch_size 256\n",
      "ref_patch_size 512\n",
      "save_path /data/pathology/projects/pathology-self-supervision/WSI_patches/data_estimation/lung/ignite_retrospective_radboudumc/patches/256/png/IG_S01_P000013_C0001_B101_V01_L01_A15_E01\n",
      "spacing 0.5\n",
      "wsi_name IG_S01_P000013_C0001_B101_V01_L01_A15_E01\n"
     ]
    }
   ],
   "source": [
    "f,c=dataset_[0]\n",
    "for k,v in f.attrs.items():\n",
    "    print(k,v)"
   ]
  },
  {
   "cell_type": "code",
   "execution_count": 23,
   "metadata": {},
   "outputs": [
    {
     "name": "stdout",
     "output_type": "stream",
     "text": [
      "downsample [1. 1.]\n",
      "downsampled_level_dim [35200 24448]\n",
      "level_dim [35200 24448]\n",
      "name 100\n",
      "patch_level 0\n",
      "patch_size 4096\n",
      "save_path /data/pathology/projects/pathology-self-supervision/WSI_patches/breast/BNCB/new_4096_patches/patches\n"
     ]
    }
   ],
   "source": [
    "archivo = Path('/mnt/CPG/projects/pathology-self-supervision/WSI_patches/breast/BNCB/new_4096_patches/patches/100.h5')\n",
    "with h5py.File(archivo,'r') as f:\n",
    "    for k,v in f['coords'].attrs.items():\n",
    "        print(k,v) \n"
   ]
  },
  {
   "cell_type": "code",
   "execution_count": null,
   "metadata": {},
   "outputs": [],
   "source": [
    "#probably will need to change the loader to something that read the h5 file and returns the coords contained in the file\n",
    "#with clam normal patching we get 'coords' and 'imgs' keys in each h5 file, so to access the imgs we need to do something like:\n",
    "#f['imgs'][0]"
   ]
  }
 ],
 "metadata": {
  "kernelspec": {
   "display_name": "ssl_sofi",
   "language": "python",
   "name": "python3"
  },
  "language_info": {
   "codemirror_mode": {
    "name": "ipython",
    "version": 3
   },
   "file_extension": ".py",
   "mimetype": "text/x-python",
   "name": "python",
   "nbconvert_exporter": "python",
   "pygments_lexer": "ipython3",
   "version": "3.10.9"
  },
  "orig_nbformat": 4
 },
 "nbformat": 4,
 "nbformat_minor": 2
}
